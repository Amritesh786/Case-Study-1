{
  "nbformat": 4,
  "nbformat_minor": 0,
  "metadata": {
    "colab": {
      "provenance": []
    },
    "kernelspec": {
      "name": "python3",
      "display_name": "Python 3"
    },
    "language_info": {
      "name": "python"
    }
  },
  "cells": [
    {
      "cell_type": "code",
      "execution_count": 1,
      "metadata": {
        "colab": {
          "base_uri": "https://localhost:8080/"
        },
        "id": "ecnU9zFXlk4B",
        "outputId": "551660b7-8673-4a46-fe33-efc43cec656d"
      },
      "outputs": [
        {
          "output_type": "stream",
          "name": "stdout",
          "text": [
            "Price of first item: 50\n",
            "Price of second item: 10\n",
            "Price of third item: 10\n",
            "The total cost after discount is:  63.0\n"
          ]
        }
      ],
      "source": [
        "a=int(input(\"Price of first item: \"))\n",
        "b=int(input(\"Price of second item: \"))\n",
        "c=int(input(\"Price of third item: \"))\n",
        "t=a+b+c\n",
        "if(t>50):\n",
        "  x=t-(0.1*t)\n",
        "  print(\"The total cost after discount is: \",x)\n",
        "else:\n",
        "  print(\"The total cost without discount is: \",t)\n"
      ]
    }
  ]
}